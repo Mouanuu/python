{
  "nbformat": 4,
  "nbformat_minor": 0,
  "metadata": {
    "colab": {
      "provenance": [],
      "authorship_tag": "ABX9TyOcgptGUbAY7sG8j2vyYNO6",
      "include_colab_link": true
    },
    "kernelspec": {
      "name": "python3",
      "display_name": "Python 3"
    },
    "language_info": {
      "name": "python"
    }
  },
  "cells": [
    {
      "cell_type": "markdown",
      "metadata": {
        "id": "view-in-github",
        "colab_type": "text"
      },
      "source": [
        "<a href=\"https://colab.research.google.com/github/Mouanuu/python/blob/main/squareroot.ipynb\" target=\"_parent\"><img src=\"https://colab.research.google.com/assets/colab-badge.svg\" alt=\"Open In Colab\"/></a>"
      ]
    },
    {
      "cell_type": "code",
      "execution_count": null,
      "metadata": {
        "colab": {
          "base_uri": "https://localhost:8080/"
        },
        "id": "kPE5I4OdJ76A",
        "outputId": "c2246d3f-8b68-4edd-8606-514588ebe0f3"
      },
      "outputs": [
        {
          "output_type": "stream",
          "name": "stdout",
          "text": [
            "enter the value 25\n",
            "The square root of the value  : 5.0\n"
          ]
        }
      ],
      "source": [
        "num=float(input(\"enter the value \"))\n",
        "squr_root=num**0.5\n",
        "print(\"The square root of the value  :\",squr_root)"
      ]
    },
    {
      "cell_type": "code",
      "source": [
        "num=int(input(\"enter the value \"))\n",
        "for i in range(1,11):\n",
        "  print(num,\"x\",i,\"=\",num*i)"
      ],
      "metadata": {
        "colab": {
          "base_uri": "https://localhost:8080/"
        },
        "id": "8_8YT4uXLM1H",
        "outputId": "ebded713-d364-4eaa-aeb8-a62a711d66b5"
      },
      "execution_count": null,
      "outputs": [
        {
          "output_type": "stream",
          "name": "stdout",
          "text": [
            "enter the value 3\n",
            "3 x 1 = 3\n",
            "3 x 2 = 6\n",
            "3 x 3 = 9\n",
            "3 x 4 = 12\n",
            "3 x 5 = 15\n",
            "3 x 6 = 18\n",
            "3 x 7 = 21\n",
            "3 x 8 = 24\n",
            "3 x 9 = 27\n",
            "3 x 10 = 30\n"
          ]
        }
      ]
    },
    {
      "cell_type": "code",
      "source": [
        "\n",
        "# num=int(input(\"enter the value \"))\n",
        "# if num==1:\n",
        "#   print(\"The number is not a prime number\")\n",
        "# elif num>1:\n",
        "#     for i in range(2,num):\n",
        "#       # print( i , 'item')\n",
        "#       if num%i ==0 :\n",
        "#         print(num,\" The number is not a prime number\")\n",
        "#         break\n",
        "#       elif i == num -1:\n",
        "#         print(num,\" The number is a prime number\")\n",
        "\n",
        "\n",
        "\n",
        "def check_prime_number( num ):\n",
        "  if num==1:\n",
        "    print(\"The number is not a prime number\")\n",
        "  elif num>1:\n",
        "      for i in range(2,num):\n",
        "        # print( i , 'item')\n",
        "        if num%i ==0 :\n",
        "          break\n",
        "        elif i == num -1:\n",
        "          print(num,\" The number is a prime number\")\n",
        "\n",
        "def main():\n",
        "  lenght = int(input('Enter a random number and we will print prime number in between given input'))\n",
        "  for i in range(1, lenght + 1):\n",
        "    check_prime_number(i)\n",
        "\n",
        "main()\n",
        "\n",
        "  "
      ],
      "metadata": {
        "colab": {
          "base_uri": "https://localhost:8080/"
        },
        "id": "s7btCIntMWcK",
        "outputId": "7460e4dd-8473-40e8-d46e-045d217a83fc"
      },
      "execution_count": 38,
      "outputs": [
        {
          "output_type": "stream",
          "name": "stdout",
          "text": [
            "Enter a random number and we will print prime number in between given input10\n",
            "The number is not a prime number\n",
            "3  The number is a prime number\n",
            "5  The number is a prime number\n",
            "7  The number is a prime number\n"
          ]
        }
      ]
    },
    {
      "cell_type": "code",
      "source": [
        "num=int(input(\"enter the value \"))\n",
        "fac=1\n",
        "if num<1:\n",
        "  print(\"The factorial value is invalid\")\n",
        "elif num>1:\n",
        "    for i in range (1,num+1):\n",
        "      fac=fac*i\n",
        "      if( i == num ):\n",
        "        print(\"The factorial value is \",fac)\n",
        "      # print(fac)\n",
        "else:\n",
        "  print(\"the factorial value is 1\")"
      ],
      "metadata": {
        "colab": {
          "base_uri": "https://localhost:8080/"
        },
        "id": "9DY7n2-7MWfo",
        "outputId": "8c76a1f1-0963-42d1-af95-3c61d04661ca"
      },
      "execution_count": 8,
      "outputs": [
        {
          "output_type": "stream",
          "name": "stdout",
          "text": [
            "enter the value 4\n",
            "The factorial value is  24\n"
          ]
        }
      ]
    }
  ]
}